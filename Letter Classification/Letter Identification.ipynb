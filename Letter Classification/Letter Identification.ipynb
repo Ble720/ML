{
 "cells": [
  {
   "cell_type": "code",
   "execution_count": 1,
   "id": "8786a564",
   "metadata": {},
   "outputs": [],
   "source": [
    "import torch\n",
    "import numpy as np\n",
    "import matplotlib.pyplot as plt\n",
    "import torch.nn as nn\n",
    "import torch.nn.functional as F\n",
    "import pandas as pd"
   ]
  },
  {
   "cell_type": "code",
   "execution_count": 19,
   "id": "2df84787",
   "metadata": {},
   "outputs": [
    {
     "name": "stdout",
     "output_type": "stream",
     "text": [
      "Running on GPU\n",
      "NVIDIA GeForce GTX 1050 Ti with Max-Q Design\n",
      "Running on CPU\n"
     ]
    }
   ],
   "source": [
    "if torch.cuda.is_available():\n",
    "    device = torch.device('cuda:0')\n",
    "    print('Running on GPU')\n",
    "    print(torch.cuda.get_device_name(0))\n",
    "else:\n",
    "    device = torch.device('cpu')\n",
    "    print('Running on CPU')\n",
    "\n",
    "device = torch.device('cpu')\n",
    "print('Running on CPU')"
   ]
  },
  {
   "cell_type": "code",
   "execution_count": 3,
   "id": "ae091c5a",
   "metadata": {},
   "outputs": [],
   "source": [
    "raw = pd.read_csv('A_Z Handwritten Data.csv')"
   ]
  },
  {
   "cell_type": "code",
   "execution_count": null,
   "id": "7a04ec53",
   "metadata": {},
   "outputs": [],
   "source": [
    "#raw.head(1)"
   ]
  },
  {
   "cell_type": "code",
   "execution_count": 4,
   "id": "cf581e20",
   "metadata": {},
   "outputs": [],
   "source": [
    "np_unshuffled = raw.to_numpy()"
   ]
  },
  {
   "cell_type": "code",
   "execution_count": 5,
   "id": "001cc7e3",
   "metadata": {},
   "outputs": [],
   "source": [
    "#shuffle data\n",
    "np.random.shuffle(np_unshuffled)"
   ]
  },
  {
   "cell_type": "code",
   "execution_count": 6,
   "id": "4e7a2dce",
   "metadata": {},
   "outputs": [],
   "source": [
    "#print(np_unshuffled[:50,:])\n",
    "np_shuffled = np_unshuffled\n",
    "#print(np_shuffled[:50,:])"
   ]
  },
  {
   "cell_type": "code",
   "execution_count": 7,
   "id": "1cd8b94b",
   "metadata": {},
   "outputs": [],
   "source": [
    "dataset = torch.tensor(np_shuffled)"
   ]
  },
  {
   "cell_type": "code",
   "execution_count": 30,
   "id": "1be0afd7",
   "metadata": {},
   "outputs": [
    {
     "data": {
      "text/plain": [
       "torch.Size([372450, 785])"
      ]
     },
     "execution_count": 30,
     "metadata": {},
     "output_type": "execute_result"
    }
   ],
   "source": [
    "#dataset.size()"
   ]
  },
  {
   "cell_type": "code",
   "execution_count": 8,
   "id": "04da59fc",
   "metadata": {},
   "outputs": [],
   "source": [
    "#split into train / test datasets. First column is expected value\n",
    "split = int(0.7*372450)\n",
    "#print(split)\n",
    "\n",
    "train_dataset = dataset[:split,:]\n",
    "\n",
    "#print(train_dataset)\n",
    "#print(train_dataset.size())\n",
    "\n",
    "test_dataset = dataset[split:,:]\n",
    "#print(test_dataset.size())\n"
   ]
  },
  {
   "cell_type": "code",
   "execution_count": 9,
   "id": "2f94a328",
   "metadata": {},
   "outputs": [],
   "source": [
    "train_x = train_dataset[:,1:]\n",
    "train_y = train_dataset[:,0]\n",
    "\n",
    "test_x = test_dataset[:,1:]\n",
    "test_y = test_dataset[:,0]"
   ]
  },
  {
   "cell_type": "code",
   "execution_count": null,
   "id": "a1389cd4",
   "metadata": {},
   "outputs": [],
   "source": []
  },
  {
   "cell_type": "code",
   "execution_count": null,
   "id": "8c2cc570",
   "metadata": {
    "scrolled": true
   },
   "outputs": [],
   "source": [
    "#Visualize data\n",
    "#Inputs = train_x[0]\n",
    "#Inputs = torch.reshape(Inputs, (28,28))\n",
    "#print(Inputs)\n",
    "#plt.imshow(training_x[0][0], cmap='gray')\n",
    "#train_y[0]"
   ]
  },
  {
   "cell_type": "code",
   "execution_count": 10,
   "id": "e1a133f0",
   "metadata": {},
   "outputs": [],
   "source": [
    "#reshape\n",
    "training_x = torch.reshape(train_x, (260714,1,28,28))\n",
    "#print(training_x[:16].size())\n",
    "\n",
    "testing_x = torch.reshape(test_x, (111736,1, 28,28))"
   ]
  },
  {
   "cell_type": "code",
   "execution_count": 28,
   "id": "8c7acf2b",
   "metadata": {},
   "outputs": [
    {
     "data": {
      "text/plain": [
       "tensor([[  0,   0,   0,   0,   0,   0,   0,   0,   0,   0,   0,   0,   0,   0,\n",
       "           0,   0,   0,   0,   0,   0,   0,   0,   0,   0,   0,   0,   0,   0],\n",
       "        [  0,   0,   0,   0,   0,   0,   0,   0,   0,   0,   0,   0,   0,   0,\n",
       "           0,   0,   0,   0,   0,   0,   0,   0,   0,   0,   0,   0,   0,   0],\n",
       "        [  0,   0,   0,   0,   0,   0,   0,   0,   0,   0,   0,   0,   0,   0,\n",
       "           0,   0,   0,   0,   0,   0,   0,   0,   0,   0,   0,   0,   0,   0],\n",
       "        [  0,   0,   0,   0,   0,   0,   0,   0,   0,   0,   0,   0,   0,   0,\n",
       "           0,   0,   0,   0,   0,   0,   0,   0,   0,   0,   0,   0,   0,   0],\n",
       "        [  0,   0,   0,   0,   0,   0,   0,   0,   0,   0,   0,   0,   0,   0,\n",
       "          56, 140, 159, 102,  20,   0,   0,   0,   0,   0,   0,   0,   0,   0],\n",
       "        [  0,   0,   0,   0,   0,   0,   0,   0,   0,   0,   0,   0,  37, 157,\n",
       "         248, 255, 255, 241, 156,  25,   0,   0,   0,   0,   0,   0,   0,   0],\n",
       "        [  0,   0,   0,   0,   0,   0,   0,   0,   0,   0,   0,   6, 108, 222,\n",
       "         255, 255, 255, 248, 174,  37,   0,   0,   0,   0,   0,   0,   0,   0],\n",
       "        [  0,   0,   0,   0,   0,   0,   0,   0,   0,  13,  73, 172, 239, 255,\n",
       "         255, 255, 255, 235, 133,   0,   0,   0,   0,   0,   0,   0,   0,   0],\n",
       "        [  0,   0,   0,   0,   0,   0,   0,   0,  15, 131, 229, 255, 255, 255,\n",
       "         241, 225, 209, 173,  99,   0,   0,   0,   0,   0,   0,   0,   0,   0],\n",
       "        [  0,   0,   0,   0,   0,   0,   0,   0, 129, 231, 255, 255, 255, 241,\n",
       "         139,  40,  21,   0,   0,   0,   0,   0,   0,   0,   0,   0,   0,   0],\n",
       "        [  0,   0,   0,   0,   0,   0,   0, 120, 219, 251, 255, 255, 239, 130,\n",
       "          21,   0,   0,   0,   0,   0,   0,   0,   0,   0,   0,   0,   0,   0],\n",
       "        [  0,   0,   0,   0,   0,   0,  58, 203, 253, 255, 255, 236, 121,  19,\n",
       "           0,   0,   0,   0,   0,   0,   0,   0,   0,   0,   0,   0,   0,   0],\n",
       "        [  0,   0,   0,   0,   0,   0, 153, 240, 255, 255, 255, 158,  40,   0,\n",
       "           0,   0,   0,   0,   0,   0,   0,   0,   0,   0,   0,   0,   0,   0],\n",
       "        [  0,   0,   0,   0,   0,   0, 198, 255, 255, 255, 255, 209, 153, 134,\n",
       "          72,   3,   0,   0,   0,   0,   0,   0,   0,   0,   0,   0,   0,   0],\n",
       "        [  0,   0,   0,   0,   0,   0, 148, 238, 255, 255, 255, 255, 255, 255,\n",
       "         255, 255, 210, 136,  94,  27,   0,   0,   0,   0,   0,   0,   0,   0],\n",
       "        [  0,   0,   0,   0,   0,   0,  54, 201, 253, 255, 255, 255, 255, 255,\n",
       "         255, 255, 255, 255, 246, 189,  74,   0,   0,   0,   0,   0,   0,   0],\n",
       "        [  0,   0,   0,   0,   0,   0,   0,  19, 107, 155, 161, 191, 213, 236,\n",
       "         255, 255, 255, 255, 255, 254, 228, 121,   0,   0,   0,   0,   0,   0],\n",
       "        [  0,   0,   0,   0,   0,   0,   0,   0,   0,   0,   0,  13,  23,  32,\n",
       "          68, 145, 224, 255, 255, 255, 255, 198,   0,   0,   0,   0,   0,   0],\n",
       "        [  0,   0,   0,   0,   0,   0,   0,   0,   0,   0,   0,   0,   0,   0,\n",
       "           0,   8, 100, 232, 255, 255, 255, 198,   0,   0,   0,   0,   0,   0],\n",
       "        [  0,   0,   0,   0,   0,   0,   0,   0,   0,   0,   0,   0,   0,   0,\n",
       "          11,  37, 121, 232, 255, 255, 247, 176,   0,   0,   0,   0,   0,   0],\n",
       "        [  0,   0,   0,   0,   0,   0,   0,   0,   0,   7,  89, 159, 174, 139,\n",
       "         154, 227, 255, 255, 255, 248, 197,  78,   0,   0,   0,   0,   0,   0],\n",
       "        [  0,   0,   0,   0,   0,   0,   0,   0,   0,  43, 184, 255, 255, 255,\n",
       "         255, 255, 255, 255, 249, 193,  67,   0,   0,   0,   0,   0,   0,   0],\n",
       "        [  0,   0,   0,   0,   0,   0,   0,   0,   0,  40, 180, 253, 255, 255,\n",
       "         255, 255, 255, 241, 156,  25,   0,   0,   0,   0,   0,   0,   0,   0],\n",
       "        [  0,   0,   0,   0,   0,   0,   0,   0,   0,   0,  54, 158, 234, 255,\n",
       "         255, 234, 172,  87,  20,   0,   0,   0,   0,   0,   0,   0,   0,   0],\n",
       "        [  0,   0,   0,   0,   0,   0,   0,   0,   0,   0,   0,   0,   0,   0,\n",
       "           0,   0,   0,   0,   0,   0,   0,   0,   0,   0,   0,   0,   0,   0],\n",
       "        [  0,   0,   0,   0,   0,   0,   0,   0,   0,   0,   0,   0,   0,   0,\n",
       "           0,   0,   0,   0,   0,   0,   0,   0,   0,   0,   0,   0,   0,   0],\n",
       "        [  0,   0,   0,   0,   0,   0,   0,   0,   0,   0,   0,   0,   0,   0,\n",
       "           0,   0,   0,   0,   0,   0,   0,   0,   0,   0,   0,   0,   0,   0],\n",
       "        [  0,   0,   0,   0,   0,   0,   0,   0,   0,   0,   0,   0,   0,   0,\n",
       "           0,   0,   0,   0,   0,   0,   0,   0,   0,   0,   0,   0,   0,   0]])"
      ]
     },
     "execution_count": 28,
     "metadata": {},
     "output_type": "execute_result"
    }
   ],
   "source": []
  },
  {
   "cell_type": "code",
   "execution_count": 54,
   "id": "76a223cb",
   "metadata": {},
   "outputs": [],
   "source": [
    "#change to float tensor\n",
    "training_x_flt = training_x.float()\n",
    "testing_x_flt = testing_x.float()"
   ]
  },
  {
   "cell_type": "code",
   "execution_count": null,
   "id": "fc46bcb2",
   "metadata": {},
   "outputs": [],
   "source": [
    "#DataLoader (No Need)\n",
    "#train_loader = torch.utils.data.DataLoader(training_set, batch_size=2000, shuffle=True) \n",
    "#test_loader = torch.utils.data.DataLoader(testing_x, batch_size=2000, shuffle=True)"
   ]
  },
  {
   "cell_type": "code",
   "execution_count": null,
   "id": "41044257",
   "metadata": {},
   "outputs": [],
   "source": [
    "#testing reshape\n",
    "#square = torch.reshape(train_x, (260714,28,28))\n",
    "#square[0]"
   ]
  },
  {
   "cell_type": "code",
   "execution_count": 49,
   "id": "eec2752c",
   "metadata": {},
   "outputs": [],
   "source": [
    "#Model\n",
    "class CNN(nn.Module):\n",
    "    def __init__(self):\n",
    "        super(CNN, self).__init__()\n",
    "        self.conv1 = nn.Conv2d(1, 16, 5, stride=1, padding=2)\n",
    "        self.maxpool1 = nn.MaxPool2d(kernel_size=3, stride=3)\n",
    "        self.conv2 = nn.Conv2d(16, 32, 5, stride=1, padding=1)\n",
    "        self.maxpool2 = nn.MaxPool2d(kernel_size=2, stride=2)\n",
    "        #self.conv3 = nn.Conv2d(32, 64, 3, stride=1, padding=1)\n",
    "        #self.maxpool3 = nn.MaxPool2d(kernel_size=2, stride=2)\n",
    "        self.flat = nn.Flatten()\n",
    "        \n",
    "        self.ll1 = nn.Linear(288, 150)\n",
    "        self.ll2 = nn.Linear(150, 84)\n",
    "        self.ll3 = nn.Linear(84, 42)\n",
    "        self.ll4 = nn.Linear(42,26)\n",
    "    \n",
    "    def forward(self, x):\n",
    "        x = self.maxpool1(F.relu(self.conv1(x)))\n",
    "        x = self.maxpool2(F.relu(self.conv2(x)))\n",
    "        #x = self.maxpool3(F.relu(self.conv3(x)))\n",
    "        x = self.flat(x)\n",
    "        \n",
    "        x = F.relu(self.ll1(x))\n",
    "        x = F.relu(self.ll2(x))\n",
    "        x = F.relu(self.ll3(x))\n",
    "        x = self.ll4(x)\n",
    "        return x\n",
    "        "
   ]
  },
  {
   "cell_type": "code",
   "execution_count": 50,
   "id": "adc7d82c",
   "metadata": {},
   "outputs": [
    {
     "data": {
      "text/plain": [
       "CNN(\n",
       "  (conv1): Conv2d(1, 16, kernel_size=(5, 5), stride=(1, 1), padding=(2, 2))\n",
       "  (maxpool1): MaxPool2d(kernel_size=3, stride=3, padding=0, dilation=1, ceil_mode=False)\n",
       "  (conv2): Conv2d(16, 32, kernel_size=(5, 5), stride=(1, 1), padding=(1, 1))\n",
       "  (maxpool2): MaxPool2d(kernel_size=2, stride=2, padding=0, dilation=1, ceil_mode=False)\n",
       "  (flat): Flatten(start_dim=1, end_dim=-1)\n",
       "  (ll1): Linear(in_features=288, out_features=150, bias=True)\n",
       "  (ll2): Linear(in_features=150, out_features=84, bias=True)\n",
       "  (ll3): Linear(in_features=84, out_features=42, bias=True)\n",
       "  (ll4): Linear(in_features=42, out_features=26, bias=True)\n",
       ")"
      ]
     },
     "execution_count": 50,
     "metadata": {},
     "output_type": "execute_result"
    }
   ],
   "source": [
    "#Initialize Model\n",
    "identifyLetter = CNN()\n",
    "identifyLetter.to(device)"
   ]
  },
  {
   "cell_type": "code",
   "execution_count": 51,
   "id": "5e415371",
   "metadata": {},
   "outputs": [],
   "source": [
    "#Loss Function\n",
    "loss_func = nn.CrossEntropyLoss()"
   ]
  },
  {
   "cell_type": "code",
   "execution_count": 52,
   "id": "dd6244b8",
   "metadata": {},
   "outputs": [],
   "source": [
    "#Optimizer\n",
    "optimizer = torch.optim.Adam(identifyLetter.parameters())"
   ]
  },
  {
   "cell_type": "code",
   "execution_count": null,
   "id": "26c46d38",
   "metadata": {},
   "outputs": [],
   "source": [
    "#train_x_flt = train_x.float()\n",
    "#test_x_flt = test_x.float()"
   ]
  },
  {
   "cell_type": "code",
   "execution_count": 55,
   "id": "aa775282",
   "metadata": {},
   "outputs": [],
   "source": [
    "#Train Function\n",
    "def train(model, batch_size, loss_f, optimizer, device):\n",
    "    losses = []\n",
    "    model.train()\n",
    "    \n",
    "    total_batches = int(len(training_x)/batch_size)\n",
    "    \n",
    "    for batch_n in range (total_batches):\n",
    "        optimizer.zero_grad()\n",
    "        inputs = training_x_flt[batch_n*batch_size:(batch_n+1)*batch_size]\n",
    "        labels = train_y[batch_n*batch_size:(batch_n+1)*batch_size]\n",
    "        \n",
    "        inputs, labels = inputs.to(device), labels.to(device)\n",
    "        \n",
    "        outputs = model(inputs)\n",
    "        loss = loss_f(outputs, labels)\n",
    "        loss.backward()\n",
    "        losses.append(loss)\n",
    "        optimizer.step()\n",
    "        \n",
    "    print('End of epoch loss:', round((sum(losses)/len(train_dataset)).item(), 3))"
   ]
  },
  {
   "cell_type": "code",
   "execution_count": 56,
   "id": "0b278109",
   "metadata": {},
   "outputs": [],
   "source": [
    "#Test Function\n",
    "def test(model, batch_size, device):\n",
    "    model.eval()\n",
    "    correct = 0\n",
    "    total_batches = int(len(testing_x)/batch_size)\n",
    "    \n",
    "    for batch_n in range(total_batches):\n",
    "        inputs = testing_x_flt[batch_n*batch_size:(batch_n+1)*batch_size]\n",
    "        labels = test_y[batch_n*batch_size:(batch_n+1)*batch_size]\n",
    "        \n",
    "        inputs, labels = inputs.to(device), labels.to(device)\n",
    "        \n",
    "        prediction = model(inputs).argmax(axis=1)\n",
    "        correct += (prediction == labels).sum().item()\n",
    "        #print('pred: ', prediction)\n",
    "        #print('actual: ', labels)\n",
    "        \n",
    "    print('End of epoch accuracy:', 100*correct/len(test_dataset), '%')"
   ]
  },
  {
   "cell_type": "code",
   "execution_count": null,
   "id": "82dd5455",
   "metadata": {},
   "outputs": [],
   "source": []
  },
  {
   "cell_type": "code",
   "execution_count": 57,
   "id": "65b69f3a",
   "metadata": {},
   "outputs": [
    {
     "name": "stdout",
     "output_type": "stream",
     "text": [
      "Epoch:  1\n",
      "End of epoch loss: 0.0\n",
      "End of epoch accuracy: 37.568017469750124 %\n",
      "Epoch:  2\n",
      "End of epoch loss: 0.0\n",
      "End of epoch accuracy: 58.40105248084771 %\n",
      "Epoch:  3\n",
      "End of epoch loss: 0.0\n",
      "End of epoch accuracy: 73.24049545356912 %\n",
      "Epoch:  4\n",
      "End of epoch loss: 0.0\n",
      "End of epoch accuracy: 79.35311806400802 %\n",
      "Epoch:  5\n",
      "End of epoch loss: 0.0\n",
      "End of epoch accuracy: 82.35394143337868 %\n",
      "Epoch:  6\n",
      "End of epoch loss: 0.0\n",
      "End of epoch accuracy: 83.85569556812487 %\n",
      "Epoch:  7\n",
      "End of epoch loss: 0.0\n",
      "End of epoch accuracy: 84.75513710889955 %\n",
      "Epoch:  8\n",
      "End of epoch loss: 0.0\n",
      "End of epoch accuracy: 85.35923963628554 %\n",
      "Epoch:  9\n",
      "End of epoch loss: 0.0\n",
      "End of epoch accuracy: 85.81656762368439 %\n",
      "Epoch:  10\n",
      "End of epoch loss: 0.0\n",
      "End of epoch accuracy: 86.14054557170473 %\n",
      "Epoch:  11\n",
      "End of epoch loss: 0.0\n",
      "End of epoch accuracy: 86.36786711534332 %\n",
      "Epoch:  12\n",
      "End of epoch loss: 0.0\n",
      "End of epoch accuracy: 86.53701582301139 %\n",
      "Epoch:  13\n",
      "End of epoch loss: 0.0\n",
      "End of epoch accuracy: 86.79387126798883 %\n",
      "Epoch:  14\n",
      "End of epoch loss: 0.0\n",
      "End of epoch accuracy: 86.93438104102528 %\n",
      "Epoch:  15\n",
      "End of epoch loss: 0.0\n",
      "End of epoch accuracy: 87.0838404811341 %\n",
      "Epoch:  16\n",
      "End of epoch loss: 0.0\n",
      "End of epoch accuracy: 87.15454285100594 %\n",
      "Epoch:  17\n",
      "End of epoch loss: 0.0\n",
      "End of epoch accuracy: 87.23777475477912 %\n",
      "Epoch:  18\n",
      "End of epoch loss: 0.0\n",
      "End of epoch accuracy: 87.32906135891744 %\n",
      "Epoch:  19\n",
      "End of epoch loss: 0.0\n",
      "End of epoch accuracy: 87.38275936135176 %\n",
      "Epoch:  20\n",
      "End of epoch loss: 0.0\n",
      "End of epoch accuracy: 87.43377246366435 %\n",
      "Epoch:  21\n",
      "End of epoch loss: 0.0\n",
      "End of epoch accuracy: 87.48747046609866 %\n",
      "Epoch:  22\n",
      "End of epoch loss: 0.0\n",
      "End of epoch accuracy: 87.49642013317104 %\n",
      "Epoch:  23\n",
      "End of epoch loss: 0.0\n",
      "End of epoch accuracy: 87.43645736378606 %\n",
      "Epoch:  24\n",
      "End of epoch loss: 0.0\n",
      "End of epoch accuracy: 87.48031073244076 %\n",
      "Epoch:  25\n",
      "End of epoch loss: 0.0\n",
      "End of epoch accuracy: 87.64140473974368 %\n",
      "Epoch:  26\n",
      "End of epoch loss: 0.0\n",
      "End of epoch accuracy: 87.67988830815494 %\n",
      "Epoch:  27\n",
      "End of epoch loss: 0.0\n",
      "End of epoch accuracy: 87.7183718765662 %\n",
      "Epoch:  28\n",
      "End of epoch loss: 0.0\n",
      "End of epoch accuracy: 87.74253597766163 %\n",
      "Epoch:  29\n",
      "End of epoch loss: 0.0\n",
      "End of epoch accuracy: 87.7837044461946 %\n",
      "Epoch:  30\n",
      "End of epoch loss: 0.0\n",
      "End of epoch accuracy: 87.80428868046108 %\n",
      "Epoch:  31\n",
      "End of epoch loss: 0.0\n",
      "End of epoch accuracy: 87.82487291472758 %\n",
      "Epoch:  32\n",
      "End of epoch loss: 0.0\n",
      "End of epoch accuracy: 87.82218801460586 %\n",
      "Epoch:  33\n",
      "End of epoch loss: 0.0\n",
      "End of epoch accuracy: 87.84098231545786 %\n",
      "Epoch:  34\n",
      "End of epoch loss: 0.0\n",
      "End of epoch accuracy: 87.8696212500895 %\n",
      "Epoch:  35\n",
      "End of epoch loss: 0.0\n",
      "End of epoch accuracy: 87.94927328703372 %\n",
      "Epoch:  36\n",
      "End of epoch loss: 0.0\n",
      "End of epoch accuracy: 87.93674375313239 %\n",
      "Epoch:  37\n",
      "End of epoch loss: 0.0\n",
      "End of epoch accuracy: 87.95643302069163 %\n",
      "Epoch:  38\n",
      "End of epoch loss: 0.0\n",
      "End of epoch accuracy: 87.98954678885946 %\n",
      "Epoch:  39\n",
      "End of epoch loss: 0.0\n",
      "End of epoch accuracy: 87.99402162239565 %\n",
      "Epoch:  40\n",
      "End of epoch loss: 0.0\n",
      "End of epoch accuracy: 88.02087062361281 %\n",
      "Epoch:  41\n",
      "End of epoch loss: 0.0\n",
      "End of epoch accuracy: 88.025345457149 %\n",
      "Epoch:  42\n",
      "End of epoch loss: 0.0\n",
      "End of epoch accuracy: 88.05129949165891 %\n",
      "Epoch:  43\n",
      "End of epoch loss: 0.0\n",
      "End of epoch accuracy: 88.05845922531682 %\n",
      "Epoch:  44\n",
      "End of epoch loss: 0.0\n",
      "End of epoch accuracy: 88.05398439178063 %\n",
      "Epoch:  45\n",
      "End of epoch loss: 0.0\n",
      "End of epoch accuracy: 88.06114412543853 %\n",
      "Epoch:  46\n",
      "End of epoch loss: 0.0\n",
      "End of epoch accuracy: 88.09425789360635 %\n",
      "Epoch:  47\n",
      "End of epoch loss: 0.0\n",
      "End of epoch accuracy: 88.08978306007016 %\n",
      "Epoch:  48\n",
      "End of epoch loss: 0.0\n",
      "End of epoch accuracy: 88.12289682823798 %\n",
      "Epoch:  49\n",
      "End of epoch loss: 0.0\n",
      "End of epoch accuracy: 88.06382902556025 %\n",
      "Epoch:  50\n",
      "End of epoch loss: 0.0\n",
      "End of epoch accuracy: 88.08888809336293 %\n"
     ]
    }
   ],
   "source": [
    "#Train/Test Script\n",
    "for epoch in range(1,51):\n",
    "    print('Epoch: ', epoch)\n",
    "    train(identifyLetter, 20000, loss_func, optimizer, device)\n",
    "    test(identifyLetter, 20000, device)"
   ]
  },
  {
   "cell_type": "code",
   "execution_count": 78,
   "id": "c11a8ed9",
   "metadata": {},
   "outputs": [
    {
     "data": {
      "text/plain": [
       "372450"
      ]
     },
     "execution_count": 78,
     "metadata": {},
     "output_type": "execute_result"
    }
   ],
   "source": [
    "import random"
   ]
  },
  {
   "cell_type": "code",
   "execution_count": 106,
   "id": "4f9be649",
   "metadata": {},
   "outputs": [
    {
     "name": "stdout",
     "output_type": "stream",
     "text": [
      "prediction: Q\n",
      "label Q\n"
     ]
    },
    {
     "data": {
      "image/png": "[encoded data removed]",
      "text/plain": [
       "<Figure size 432x288 with 1 Axes>"
      ]
     },
     "metadata": {
      "needs_background": "light"
     },
     "output_type": "display_data"
    }
   ],
   "source": [
    "#Test one\n",
    "\n",
    "num = random.randint(0, len(dataset)) #make random number\n",
    "total_dataset = torch.reshape(dataset[:,1:],(len(dataset),1,28,28))\n",
    "test_input = total_dataset[num].float()\n",
    "label = dataset[num,0]\n",
    "test_input = torch.reshape(test_input, (1,1,28,28))\n",
    "\n",
    "plt.imshow(test_input[0][0], cmap='gray')\n",
    "prediction = identifyLetter(test_input).argmax(axis=1)\n",
    "print('prediction:', chr(prediction+65))\n",
    "print('label', chr(label+65))\n",
    "#train_y[0]"
   ]
  },
  {
   "cell_type": "markdown",
   "id": "0ec32654",
   "metadata": {},
   "source": [
    "# Extras"
   ]
  },
  {
   "cell_type": "code",
   "execution_count": 58,
   "id": "db149d37",
   "metadata": {},
   "outputs": [],
   "source": [
    "# save weights\n",
    "torch.save(identifyLetter.state_dict(), \"./LetterIdentifyModel.pt\") "
   ]
  },
  {
   "cell_type": "code",
   "execution_count": null,
   "id": "5d6bcc59",
   "metadata": {},
   "outputs": [],
   "source": [
    "#loader\n",
    "updatedIdentifier = CNN()\n",
    "modelWeights = torch.load(\"./LetterIdentifyModel.pt\")\n",
    "updatedIdentifier.load_state_dict(modelWeights)"
   ]
  },
  {
   "cell_type": "code",
   "execution_count": null,
   "id": "c2b4c92b",
   "metadata": {},
   "outputs": [],
   "source": [
    "#continue Testing\n",
    "n_epoch = 50\n",
    "batch_s = 20000\n",
    "for epoch in range(1, n_epoch+1):\n",
    "    print('Epoch: ', epoch)\n",
    "    train(updatedIdentifier, batch_s, loss_func, optimizer, device)\n",
    "    test(updatedIdentifier, batch_s, device)"
   ]
  },
  {
   "cell_type": "code",
   "execution_count": 47,
   "id": "cd0bb117",
   "metadata": {},
   "outputs": [],
   "source": [
    "#test size\n",
    "m = nn.Sequential(\n",
    "    nn.Conv2d(1,16,5,stride=1,padding=2),\n",
    "    nn.MaxPool2d(kernel_size=3, stride=3),\n",
    "    nn.Conv2d(16,32,5,stride=1,padding=1),\n",
    "    nn.MaxPool2d(kernel_size=2, stride=2),\n",
    "    #nn.Conv2d(32,64,3,stride=1,padding=1),\n",
    "    #nn.MaxPool2d(kernel_size=2, stride=2),\n",
    "    nn.Flatten()\n",
    ")"
   ]
  },
  {
   "cell_type": "code",
   "execution_count": 48,
   "id": "fcc1d8b4",
   "metadata": {},
   "outputs": [
    {
     "data": {
      "text/plain": [
       "torch.Size([2000, 288])"
      ]
     },
     "execution_count": 48,
     "metadata": {},
     "output_type": "execute_result"
    }
   ],
   "source": [
    "input = torch.randn(2000,1,28,28)\n",
    "output = m(input)\n",
    "output.size()"
   ]
  }
 ],
 "metadata": {
  "kernelspec": {
   "display_name": "Python 3 (ipykernel)",
   "language": "python",
   "name": "python3"
  },
  "language_info": {
   "codemirror_mode": {
    "name": "ipython",
    "version": 3
   },
   "file_extension": ".py",
   "mimetype": "text/x-python",
   "name": "python",
   "nbconvert_exporter": "python",
   "pygments_lexer": "ipython3",
   "version": "3.9.9"
  }
 },
 "nbformat": 4,
 "nbformat_minor": 5
}
