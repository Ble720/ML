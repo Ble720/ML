{
 "cells": [
  {
   "cell_type": "code",
   "execution_count": 1,
   "metadata": {},
   "outputs": [],
   "source": [
    "import torch\n",
    "import numpy as np\n",
    "import matplotlib.pyplot as plt\n",
    "import torchvision\n",
    "import torch.nn as nn\n",
    "import torch.nn.functional as F\n",
    "import pandas as pd\n",
    "from sklearn import preprocessing"
   ]
  },
  {
   "cell_type": "code",
   "execution_count": 2,
   "metadata": {},
   "outputs": [
    {
     "name": "stdout",
     "output_type": "stream",
     "text": [
      "Running on GPU\n",
      "NVIDIA GeForce GTX 1050 Ti with Max-Q Design\n"
     ]
    }
   ],
   "source": [
    "if torch.cuda.is_available():\n",
    "    device = torch.device('cuda:0')\n",
    "    print('Running on GPU')\n",
    "    print(torch.cuda.get_device_name(0))\n",
    "else:\n",
    "    device = torch.device('cpu')\n",
    "    print('Running on CPU')"
   ]
  },
  {
   "cell_type": "code",
   "execution_count": 3,
   "metadata": {},
   "outputs": [],
   "source": [
    "s_dir = './Stocks/CDNS_5y_12-23-21.csv'\n",
    "#s_dir = './Stocks/CDNS.csv'"
   ]
  },
  {
   "cell_type": "code",
   "execution_count": 4,
   "metadata": {},
   "outputs": [],
   "source": [
    "data = pd.read_csv(s_dir)"
   ]
  },
  {
   "cell_type": "code",
   "execution_count": 7,
   "metadata": {},
   "outputs": [
    {
     "name": "stdout",
     "output_type": "stream",
     "text": [
      "            Date        Open        High         Low       Close   Adj Close  \\\n",
      "1252  2021-12-15  176.699997  184.410004  176.250000  184.270004  184.270004   \n",
      "1253  2021-12-16  184.000000  184.009995  177.809998  179.619995  179.619995   \n",
      "1254  2021-12-17  177.080002  182.449997  177.080002  179.149994  179.149994   \n",
      "1255  2021-12-20  175.850006  178.619995  175.250000  177.320007  177.320007   \n",
      "1256  2021-12-21  179.580002  183.289993  176.580002  183.029999  183.029999   \n",
      "\n",
      "       Volume  \n",
      "1252  1813100  \n",
      "1253  1573400  \n",
      "1254  3447100  \n",
      "1255  1255100  \n",
      "1256   980600  \n",
      "<class 'pandas.core.frame.DataFrame'>\n",
      "RangeIndex: 1257 entries, 0 to 1256\n",
      "Data columns (total 7 columns):\n",
      " #   Column     Non-Null Count  Dtype  \n",
      "---  ------     --------------  -----  \n",
      " 0   Date       1257 non-null   object \n",
      " 1   Open       1257 non-null   float64\n",
      " 2   High       1257 non-null   float64\n",
      " 3   Low        1257 non-null   float64\n",
      " 4   Close      1257 non-null   float64\n",
      " 5   Adj Close  1257 non-null   float64\n",
      " 6   Volume     1257 non-null   int64  \n",
      "dtypes: float64(5), int64(1), object(1)\n",
      "memory usage: 68.9+ KB\n",
      "None\n"
     ]
    }
   ],
   "source": [
    "print(data.tail())\n",
    "print(data.info())"
   ]
  },
  {
   "cell_type": "code",
   "execution_count": 6,
   "metadata": {},
   "outputs": [
    {
     "data": {
      "text/plain": [
       "Date         0\n",
       "Open         0\n",
       "High         0\n",
       "Low          0\n",
       "Close        0\n",
       "Adj Close    0\n",
       "Volume       0\n",
       "dtype: int64"
      ]
     },
     "execution_count": 6,
     "metadata": {},
     "output_type": "execute_result"
    }
   ],
   "source": [
    "data.isna().sum()"
   ]
  },
  {
   "cell_type": "code",
   "execution_count": 6,
   "metadata": {},
   "outputs": [],
   "source": [
    "np_data = data['Close'].to_numpy()"
   ]
  },
  {
   "cell_type": "code",
   "execution_count": 7,
   "metadata": {},
   "outputs": [],
   "source": [
    "#Normalize datasets\n",
    "scaler = preprocessing.MinMaxScaler(feature_range=(-1, 1))\n",
    "norm_data = scaler.fit_transform(data['Close'].values.reshape(-1,1))\n",
    "\n"
   ]
  },
  {
   "cell_type": "code",
   "execution_count": 8,
   "metadata": {},
   "outputs": [
    {
     "data": {
      "text/plain": [
       "array([[-0.99337015],\n",
       "       [-0.99189687],\n",
       "       [-0.99791283],\n",
       "       ...,\n",
       "       [ 0.88987107],\n",
       "       [ 0.86740346],\n",
       "       [ 0.93750772]])"
      ]
     },
     "execution_count": 8,
     "metadata": {},
     "output_type": "execute_result"
    }
   ],
   "source": [
    "#print(closed_data)\n",
    "norm_data"
   ]
  },
  {
   "cell_type": "code",
   "execution_count": 33,
   "metadata": {},
   "outputs": [
    {
     "data": {
      "text/plain": [
       "[<matplotlib.lines.Line2D at 0x18bbc719910>]"
      ]
     },
     "execution_count": 33,
     "metadata": {},
     "output_type": "execute_result"
    },
    {
     "data": {
      "image/png": "[encoded data removed]",
      "text/plain": [
       "<Figure size 432x288 with 1 Axes>"
      ]
     },
     "metadata": {
      "needs_background": "light"
     },
     "output_type": "display_data"
    }
   ],
   "source": [
    "plt.plot(data['Close'])"
   ]
  },
  {
   "cell_type": "code",
   "execution_count": 16,
   "metadata": {},
   "outputs": [
    {
     "name": "stdout",
     "output_type": "stream",
     "text": [
      "(879, 1)\n"
     ]
    }
   ],
   "source": [
    "print(np_train_set.shape)"
   ]
  },
  {
   "cell_type": "code",
   "execution_count": 15,
   "metadata": {},
   "outputs": [
    {
     "data": {
      "text/plain": [
       "378"
      ]
     },
     "execution_count": 15,
     "metadata": {},
     "output_type": "execute_result"
    }
   ],
   "source": [
    "len(np_test_set)"
   ]
  },
  {
   "cell_type": "code",
   "execution_count": 9,
   "metadata": {},
   "outputs": [],
   "source": [
    "def create_datasets(data, seq_len, pred_len):\n",
    "    split = int(len(data)*0.8)\n",
    "    seq_data = []\n",
    "    data_len = len(data)\n",
    "    \n",
    "    for i in range(data_len-seq_len+1):\n",
    "        seq_data.append(data[i:i+seq_len])\n",
    "    seq_data = np.array(seq_data)\n",
    "    \n",
    "    #print(seq_data.shape)\n",
    "    \n",
    "    trn_x = seq_data[:split]\n",
    "    trn_y = seq_data[:split, -1]\n",
    "    tst_x = seq_data[split:]\n",
    "    tst_y = seq_data[split:, -1]\n",
    "    \n",
    "    #print(trn_x.shape)\n",
    "    #print(trn_y.shape)\n",
    "    #print(tst_x.shape)\n",
    "    #print(tst_y.shape)\n",
    "        \n",
    "    return trn_x, trn_y, tst_x, tst_y"
   ]
  },
  {
   "cell_type": "code",
   "execution_count": 84,
   "metadata": {},
   "outputs": [
    {
     "name": "stdout",
     "output_type": "stream",
     "text": [
      "torch.Size([1005, 60, 1])\n",
      "torch.Size([1005, 1])\n"
     ]
    }
   ],
   "source": [
    "sequence_l = 60\n",
    "prediction_l = 30\n",
    "\n",
    "train_x, train_y, test_x, test_y = create_datasets(norm_data, seq_len=sequence_l, pred_len=prediction_l)\n",
    "\n",
    "#convert from np arry to pytorch tensor\n",
    "train_x = torch.tensor(train_x).float() # convert list of numpy array to numpy array\n",
    "train_y = torch.tensor(train_y).float()\n",
    "test_x = torch.tensor(test_x).float()\n",
    "test_y = torch.tensor(test_y).float()\n",
    "\n",
    "print(train_x.shape)\n",
    "print(train_y.shape)\n"
   ]
  },
  {
   "cell_type": "code",
   "execution_count": 20,
   "metadata": {
    "scrolled": true
   },
   "outputs": [
    {
     "name": "stdout",
     "output_type": "stream",
     "text": [
      "(1196, 60, 1)\n",
      "[ 25.879999  25.389999  25.52     ... 163.100006 163.550003 158.160004]\n"
     ]
    }
   ],
   "source": []
  },
  {
   "cell_type": "code",
   "execution_count": 19,
   "metadata": {},
   "outputs": [],
   "source": []
  },
  {
   "cell_type": "code",
   "execution_count": null,
   "metadata": {},
   "outputs": [],
   "source": []
  },
  {
   "cell_type": "code",
   "execution_count": 11,
   "metadata": {},
   "outputs": [],
   "source": [
    "class LSTM(nn.Module):\n",
    "    def __init__(self, i_size, h_size, n_layers, drop):\n",
    "        super(LSTM, self).__init__()\n",
    "        self.num_layers = n_layers\n",
    "        self.hidden_dim = h_size\n",
    "        self.lstm = nn.LSTM(input_size=i_size ,hidden_size=h_size, num_layers=n_layers, batch_first=True, dropout=drop)\n",
    "        self.layer1 = nn.Linear(h_size, 1)\n",
    "        #\n",
    "    \n",
    "    def forward(self, x):\n",
    "        h0 = torch.zeros(self.num_layers, x.size(0), self.hidden_dim).to(device)\n",
    "        c0 = torch.zeros(self.num_layers, x.size(0), self.hidden_dim).to(device)\n",
    "        output, (h, _) = self.lstm(x, (h0, c0))\n",
    "        #x = F.relu(self.layer1(x))\n",
    "        output = self.layer1(output[:,-1,:])\n",
    "        return output\n",
    "        "
   ]
  },
  {
   "cell_type": "code",
   "execution_count": 13,
   "metadata": {},
   "outputs": [
    {
     "data": {
      "text/plain": [
       "LSTM(\n",
       "  (lstm): LSTM(1, 32, num_layers=2, batch_first=True)\n",
       "  (layer1): Linear(in_features=32, out_features=1, bias=True)\n",
       ")"
      ]
     },
     "execution_count": 13,
     "metadata": {},
     "output_type": "execute_result"
    }
   ],
   "source": [
    "stock = LSTM(1, 32, 2, 0)\n",
    "stock.to(device)"
   ]
  },
  {
   "cell_type": "code",
   "execution_count": null,
   "metadata": {},
   "outputs": [],
   "source": []
  },
  {
   "cell_type": "code",
   "execution_count": 14,
   "metadata": {},
   "outputs": [],
   "source": [
    "#Loss Function\n",
    "loss_func = nn.MSELoss()"
   ]
  },
  {
   "cell_type": "code",
   "execution_count": 15,
   "metadata": {},
   "outputs": [],
   "source": [
    "#Optimizer\n",
    "optimizer = torch.optim.Adam(stock.parameters(), lr=0.01)"
   ]
  },
  {
   "cell_type": "code",
   "execution_count": 16,
   "metadata": {},
   "outputs": [],
   "source": [
    "#Train Function\n",
    "def train(model, epoch, loss_f, optimizer, device):\n",
    "    losses = []\n",
    "    model.train()\n",
    "    \n",
    "    #total_batches = int(len(train_x[0])/batch_size)\n",
    "    \n",
    "    for e in range (epoch):\n",
    "        optimizer.zero_grad()\n",
    "        inputs = train_x#[batch_n*batch_size:(batch_n+1)*batch_size]\n",
    "        labels = train_y#[batch_n*batch_size:(batch_n+1)*batch_size]\n",
    "        \n",
    "        inputs, labels = inputs.to(device), labels.to(device)\n",
    "        \n",
    "        outputs = model(inputs)\n",
    "\n",
    "        #print('Output:',outputs)\n",
    "        #print('Label:', labels)\n",
    "        loss = loss_f(outputs, labels)\n",
    "        loss.backward()\n",
    "        losses.append(loss.item())\n",
    "        optimizer.step()\n",
    "        print('Epoch Loss:', loss.item())\n",
    "    \n",
    "\n",
    "    #plt.plot(loss, label=\"Training loss\")"
   ]
  },
  {
   "cell_type": "code",
   "execution_count": 88,
   "metadata": {},
   "outputs": [],
   "source": [
    "#Test Function\n",
    "def test(model, batch_size, loss_f, device):\n",
    "    model.eval()\n",
    "\n",
    "    #total_batches = int(len(test_x[0])/batch_size)\n",
    "    \n",
    "    #for batch_n in range(total_batches):\n",
    "    inputs = test_x#[batch_n*batch_size:(batch_n+1)*batch_size]\n",
    "    labels = test_y#[batch_n*batch_size:(batch_n+1)*batch_size]\n",
    "        \n",
    "    inputs, labels = inputs.to(device), labels.to(device)\n",
    "        \n",
    "    prediction = model(inputs)\n",
    "    loss = loss_f(prediction, labels)\n",
    "        \n",
    "    scaled = scaler.inverse_transform(prediction.cpu().detach().numpy())\n",
    "    plt.plot(scaled)\n",
    "    print('Epoch MSE:', loss.item(), '%')"
   ]
  },
  {
   "cell_type": "code",
   "execution_count": 89,
   "metadata": {},
   "outputs": [
    {
     "name": "stdout",
     "output_type": "stream",
     "text": [
      "Epoch:  1\n",
      "Epoch Loss: 0.00042585775372572243\n",
      "Epoch Loss: 0.00042480617412365973\n",
      "Epoch Loss: 0.00042375773773528636\n",
      "Epoch Loss: 0.00042271160054951906\n",
      "Epoch Loss: 0.0004216672095935792\n",
      "Epoch Loss: 0.0004206253797747195\n",
      "Epoch Loss: 0.00041958558722399175\n",
      "Epoch Loss: 0.0004185474244877696\n",
      "Epoch Loss: 0.0004175115318503231\n",
      "Epoch Loss: 0.0004164780839346349\n",
      "Epoch Loss: 0.0004154463531449437\n",
      "Epoch Loss: 0.0004144166596233845\n",
      "Epoch Loss: 0.0004133891488891095\n",
      "Epoch Loss: 0.0004123632679693401\n",
      "Epoch Loss: 0.0004113393952138722\n",
      "Epoch Loss: 0.00041031779255717993\n",
      "Epoch Loss: 0.00040929793613031507\n",
      "Epoch Loss: 0.0004082799714524299\n",
      "Epoch Loss: 0.00040726421866565943\n",
      "Epoch Loss: 0.0004062501830048859\n",
      "Epoch Loss: 0.00040523806819692254\n",
      "Epoch Loss: 0.0004042278742417693\n",
      "Epoch Loss: 0.0004032196302432567\n",
      "Epoch Loss: 0.0004022131615784019\n",
      "Epoch Loss: 0.0004012084973510355\n",
      "Epoch Loss: 0.00040020589949563146\n",
      "Epoch Loss: 0.0003992048732470721\n",
      "Epoch Loss: 0.00039820600068196654\n",
      "Epoch Loss: 0.0003972089325543493\n",
      "Epoch Loss: 0.00039621355244889855\n",
      "Epoch MSE: 0.004571152850985527 %\n"
     ]
    },
    {
     "data": {
      "image/png": "[encoded data removed]",
      "text/plain": [
       "<Figure size 432x288 with 1 Axes>"
      ]
     },
     "metadata": {
      "needs_background": "light"
     },
     "output_type": "display_data"
    }
   ],
   "source": [
    "#Train/Test Script\n",
    "for epoch in range(1,2):\n",
    "    print('Epoch: ', epoch)\n",
    "    train(stock, 30, loss_func, optimizer, device)\n",
    "    test(stock, 30, loss_func, device)"
   ]
  },
  {
   "cell_type": "code",
   "execution_count": 90,
   "metadata": {
    "scrolled": true
   },
   "outputs": [
    {
     "name": "stderr",
     "output_type": "stream",
     "text": [
      "C:\\Users\\brand\\miniconda3\\envs\\general\\lib\\site-packages\\torch\\_tensor.py:493: UserWarning: non-inplace resize is deprecated\n",
      "  warnings.warn(\"non-inplace resize is deprecated\")\n"
     ]
    },
    {
     "data": {
      "text/plain": [
       "array([[170.9615458]])"
      ]
     },
     "execution_count": 90,
     "metadata": {},
     "output_type": "execute_result"
    }
   ],
   "source": [
    "test = stock(test_x[167,:,:].resize(1,60,1).to(device))\n",
    "orig = scaler.inverse_transform(test.cpu().detach())\n",
    "orig\n",
    "#plt.plot(train)"
   ]
  },
  {
   "cell_type": "code",
   "execution_count": 76,
   "metadata": {},
   "outputs": [],
   "source": [
    "def predict30d(model, prev60, device):\n",
    "    input60 = prev60\n",
    "    norm30 = torch.empty((1,30,1), dtype=torch.float).to(device)\n",
    "    real30 = torch.empty((1,30,1), dtype=torch.float).to(device)\n",
    "    model.eval()\n",
    "    for i in range(30):\n",
    "        input60 = torch.cat((input60[:,i:,:], norm30[:,0:i,:]), 1)\n",
    "        pred = model(input60)\n",
    "        norm30[0,i,0] = pred\n",
    "        real30[0,i,0] = (scaler.inverse_transform(pred.cpu().detach())[0,0])\n",
    "    return real30, norm30\n",
    "    "
   ]
  },
  {
   "cell_type": "code",
   "execution_count": 91,
   "metadata": {},
   "outputs": [
    {
     "name": "stderr",
     "output_type": "stream",
     "text": [
      "C:\\Users\\brand\\miniconda3\\envs\\general\\lib\\site-packages\\torch\\_tensor.py:493: UserWarning: non-inplace resize is deprecated\n",
      "  warnings.warn(\"non-inplace resize is deprecated\")\n"
     ]
    }
   ],
   "source": [
    "input60 = test_x[167,:,:].resize(1,60,1).to(device)\n",
    "pred, scaled = predict30d(stock, input60, device)\n"
   ]
  },
  {
   "cell_type": "code",
   "execution_count": 98,
   "metadata": {},
   "outputs": [
    {
     "ename": "ValueError",
     "evalue": "Found array with dim 3. Estimator expected <= 2.",
     "output_type": "error",
     "traceback": [
      "\u001b[1;31m---------------------------------------------------------------------------\u001b[0m",
      "\u001b[1;31mValueError\u001b[0m                                Traceback (most recent call last)",
      "\u001b[1;32m~\\AppData\\Local\\Temp/ipykernel_6000/55900900.py\u001b[0m in \u001b[0;36m<module>\u001b[1;34m\u001b[0m\n\u001b[1;32m----> 1\u001b[1;33m \u001b[0mp\u001b[0m \u001b[1;33m=\u001b[0m \u001b[0mtorch\u001b[0m\u001b[1;33m.\u001b[0m\u001b[0mcat\u001b[0m\u001b[1;33m(\u001b[0m\u001b[1;33m(\u001b[0m\u001b[0mscaler\u001b[0m\u001b[1;33m.\u001b[0m\u001b[0minverse_transform\u001b[0m\u001b[1;33m(\u001b[0m\u001b[0minput60\u001b[0m\u001b[1;33m.\u001b[0m\u001b[0mcpu\u001b[0m\u001b[1;33m(\u001b[0m\u001b[1;33m)\u001b[0m\u001b[1;33m.\u001b[0m\u001b[0mdetach\u001b[0m\u001b[1;33m(\u001b[0m\u001b[1;33m)\u001b[0m\u001b[1;33m)\u001b[0m\u001b[1;33m,\u001b[0m \u001b[0mpred\u001b[0m\u001b[1;33m)\u001b[0m\u001b[1;33m,\u001b[0m \u001b[1;36m1\u001b[0m\u001b[1;33m)\u001b[0m\u001b[1;33m\u001b[0m\u001b[1;33m\u001b[0m\u001b[0m\n\u001b[0m",
      "\u001b[1;32m~\\miniconda3\\envs\\general\\lib\\site-packages\\sklearn\\preprocessing\\_data.py\u001b[0m in \u001b[0;36minverse_transform\u001b[1;34m(self, X)\u001b[0m\n\u001b[0;32m    523\u001b[0m         \u001b[0mcheck_is_fitted\u001b[0m\u001b[1;33m(\u001b[0m\u001b[0mself\u001b[0m\u001b[1;33m)\u001b[0m\u001b[1;33m\u001b[0m\u001b[1;33m\u001b[0m\u001b[0m\n\u001b[0;32m    524\u001b[0m \u001b[1;33m\u001b[0m\u001b[0m\n\u001b[1;32m--> 525\u001b[1;33m         X = check_array(\n\u001b[0m\u001b[0;32m    526\u001b[0m             \u001b[0mX\u001b[0m\u001b[1;33m,\u001b[0m \u001b[0mcopy\u001b[0m\u001b[1;33m=\u001b[0m\u001b[0mself\u001b[0m\u001b[1;33m.\u001b[0m\u001b[0mcopy\u001b[0m\u001b[1;33m,\u001b[0m \u001b[0mdtype\u001b[0m\u001b[1;33m=\u001b[0m\u001b[0mFLOAT_DTYPES\u001b[0m\u001b[1;33m,\u001b[0m \u001b[0mforce_all_finite\u001b[0m\u001b[1;33m=\u001b[0m\u001b[1;34m\"allow-nan\"\u001b[0m\u001b[1;33m\u001b[0m\u001b[1;33m\u001b[0m\u001b[0m\n\u001b[0;32m    527\u001b[0m         )\n",
      "\u001b[1;32m~\\miniconda3\\envs\\general\\lib\\site-packages\\sklearn\\utils\\validation.py\u001b[0m in \u001b[0;36mcheck_array\u001b[1;34m(array, accept_sparse, accept_large_sparse, dtype, order, copy, force_all_finite, ensure_2d, allow_nd, ensure_min_samples, ensure_min_features, estimator)\u001b[0m\n\u001b[0;32m    792\u001b[0m                 ) from e\n\u001b[0;32m    793\u001b[0m         \u001b[1;32mif\u001b[0m \u001b[1;32mnot\u001b[0m \u001b[0mallow_nd\u001b[0m \u001b[1;32mand\u001b[0m \u001b[0marray\u001b[0m\u001b[1;33m.\u001b[0m\u001b[0mndim\u001b[0m \u001b[1;33m>=\u001b[0m \u001b[1;36m3\u001b[0m\u001b[1;33m:\u001b[0m\u001b[1;33m\u001b[0m\u001b[1;33m\u001b[0m\u001b[0m\n\u001b[1;32m--> 794\u001b[1;33m             raise ValueError(\n\u001b[0m\u001b[0;32m    795\u001b[0m                 \u001b[1;34m\"Found array with dim %d. %s expected <= 2.\"\u001b[0m\u001b[1;33m\u001b[0m\u001b[1;33m\u001b[0m\u001b[0m\n\u001b[0;32m    796\u001b[0m                 \u001b[1;33m%\u001b[0m \u001b[1;33m(\u001b[0m\u001b[0marray\u001b[0m\u001b[1;33m.\u001b[0m\u001b[0mndim\u001b[0m\u001b[1;33m,\u001b[0m \u001b[0mestimator_name\u001b[0m\u001b[1;33m)\u001b[0m\u001b[1;33m\u001b[0m\u001b[1;33m\u001b[0m\u001b[0m\n",
      "\u001b[1;31mValueError\u001b[0m: Found array with dim 3. Estimator expected <= 2."
     ]
    }
   ],
   "source": [
    "p = torch.cat((scaler.inverse_transform(input60.cpu().detach()), pred), 1)"
   ]
  },
  {
   "cell_type": "code",
   "execution_count": 97,
   "metadata": {},
   "outputs": [
    {
     "data": {
      "text/plain": [
       "[<matplotlib.lines.Line2D at 0x1e453415490>]"
      ]
     },
     "execution_count": 97,
     "metadata": {},
     "output_type": "execute_result"
    },
    {
     "data": {
      "image/png": "[encoded data removed]",
      "text/plain": [
       "<Figure size 432x288 with 1 Axes>"
      ]
     },
     "metadata": {
      "needs_background": "light"
     },
     "output_type": "display_data"
    }
   ],
   "source": [
    "plt.plot(p.reshape(90,1))"
   ]
  },
  {
   "cell_type": "code",
   "execution_count": null,
   "metadata": {},
   "outputs": [],
   "source": [
    "# save weights\n",
    "torch.save(stock.state_dict(), \"./StockModel.pt\")"
   ]
  },
  {
   "cell_type": "code",
   "execution_count": null,
   "metadata": {},
   "outputs": [],
   "source": [
    "#loader\n",
    "stockModel = LSTM()\n",
    "modelWeights = torch.load(\"./StockModel.pt\")\n",
    "stockModel.load_state_dict(modelWeights)"
   ]
  },
  {
   "cell_type": "code",
   "execution_count": 66,
   "metadata": {},
   "outputs": [],
   "source": [
    "m = nn.Sequential(\n",
    "    nn.LSTM(input_size=30, hidden_size=20, num_layers=3, batch_first=True, dropout=0.2),\n",
    "    #nn.Linear(20,10),\n",
    "    #nn.Linear(10, 1)\n",
    "    #nn.Conv2d(1,16,7,stride=1,padding=2),\n",
    "    #nn.MaxPool2d(kernel_size=3, stride=3),\n",
    "    #nn.Conv2d(16,32,7,stride=1,padding=1),\n",
    "    #nn.MaxPool2d(kernel_size=5, stride=3),\n",
    "    #nn.Conv2d(32,64,3,stride=1,padding=1),\n",
    "    #nn.MaxPool2d(kernel_size=2, stride=2),\n",
    "    #nn.Flatten()\n",
    ")"
   ]
  },
  {
   "cell_type": "code",
   "execution_count": 75,
   "metadata": {},
   "outputs": [
    {
     "name": "stdout",
     "output_type": "stream",
     "text": [
      "tensor([[[ 1.0781e-01],\n",
      "         [ 3.6962e-01],\n",
      "         [-2.8077e-01],\n",
      "         [ 8.9057e-02],\n",
      "         [-1.1219e+00],\n",
      "         [-6.7937e-01],\n",
      "         [ 1.0048e+00],\n",
      "         [-9.8230e-01],\n",
      "         [-1.5039e+00],\n",
      "         [-3.7228e-01]],\n",
      "\n",
      "        [[ 1.1369e+00],\n",
      "         [ 9.5619e-01],\n",
      "         [ 7.6198e-04],\n",
      "         [ 1.7247e-01],\n",
      "         [ 2.9469e-01],\n",
      "         [ 1.8378e-01],\n",
      "         [ 9.6322e-02],\n",
      "         [-1.7440e-01],\n",
      "         [-1.4952e+00],\n",
      "         [ 2.1246e-02]],\n",
      "\n",
      "        [[-8.9841e-01],\n",
      "         [-4.7508e-01],\n",
      "         [-1.0861e+00],\n",
      "         [-2.0132e-01],\n",
      "         [-2.4031e+00],\n",
      "         [ 2.8254e-01],\n",
      "         [ 1.1632e+00],\n",
      "         [ 4.5747e-01],\n",
      "         [-5.5225e-01],\n",
      "         [-1.8980e-01]],\n",
      "\n",
      "        [[-1.2350e+00],\n",
      "         [ 4.2118e-01],\n",
      "         [ 6.5976e-01],\n",
      "         [-1.2103e+00],\n",
      "         [ 1.5877e+00],\n",
      "         [-1.7155e-02],\n",
      "         [-9.2476e-01],\n",
      "         [ 5.2618e-01],\n",
      "         [-1.1711e+00],\n",
      "         [ 1.0142e+00]],\n",
      "\n",
      "        [[ 1.5482e+00],\n",
      "         [ 1.6600e+00],\n",
      "         [ 5.0174e-01],\n",
      "         [-1.4887e+00],\n",
      "         [-4.6510e-01],\n",
      "         [ 2.1593e-01],\n",
      "         [ 1.0062e+00],\n",
      "         [-8.7382e-01],\n",
      "         [-9.9408e-02],\n",
      "         [-1.2254e+00]],\n",
      "\n",
      "        [[ 2.5581e-01],\n",
      "         [-1.9985e+00],\n",
      "         [ 2.1738e-01],\n",
      "         [ 8.4236e-01],\n",
      "         [-3.4859e-01],\n",
      "         [-8.6463e-01],\n",
      "         [ 5.0302e-01],\n",
      "         [ 2.3899e-02],\n",
      "         [ 1.0115e+00],\n",
      "         [-1.2376e-03]],\n",
      "\n",
      "        [[-4.3722e-01],\n",
      "         [-4.4708e-01],\n",
      "         [-1.2893e-02],\n",
      "         [-2.3579e+00],\n",
      "         [-1.4684e+00],\n",
      "         [-6.5224e-01],\n",
      "         [ 8.0839e-01],\n",
      "         [ 8.8992e-01],\n",
      "         [-1.4335e+00],\n",
      "         [-8.1062e-01]],\n",
      "\n",
      "        [[ 7.9672e-01],\n",
      "         [-2.6980e-01],\n",
      "         [-5.3310e-01],\n",
      "         [ 1.1385e+00],\n",
      "         [-1.2328e+00],\n",
      "         [-9.5407e-01],\n",
      "         [ 8.9417e-01],\n",
      "         [ 1.4008e+00],\n",
      "         [-4.1223e-01],\n",
      "         [ 2.7649e-01]],\n",
      "\n",
      "        [[ 6.2409e-01],\n",
      "         [ 2.5699e-01],\n",
      "         [ 3.4811e-01],\n",
      "         [ 2.8039e-01],\n",
      "         [ 4.4107e-01],\n",
      "         [-6.6044e-02],\n",
      "         [ 1.7935e-01],\n",
      "         [ 1.6413e-01],\n",
      "         [-1.6945e-01],\n",
      "         [ 1.5028e+00]],\n",
      "\n",
      "        [[-9.9768e-02],\n",
      "         [ 3.6271e-01],\n",
      "         [-9.3697e-01],\n",
      "         [-2.4071e-01],\n",
      "         [-7.9942e-01],\n",
      "         [ 1.2866e+00],\n",
      "         [-2.1287e-01],\n",
      "         [ 1.1398e+00],\n",
      "         [ 3.4237e+00],\n",
      "         [-1.3963e+00]],\n",
      "\n",
      "        [[ 1.3145e+00],\n",
      "         [-7.5743e-01],\n",
      "         [-1.4109e+00],\n",
      "         [ 2.7918e-02],\n",
      "         [ 9.9433e-01],\n",
      "         [ 1.1456e+00],\n",
      "         [ 7.0615e-01],\n",
      "         [ 2.1854e+00],\n",
      "         [ 4.9681e-01],\n",
      "         [ 1.0636e+00]],\n",
      "\n",
      "        [[-1.0554e-01],\n",
      "         [-1.3476e+00],\n",
      "         [-6.2621e-01],\n",
      "         [-3.0682e-01],\n",
      "         [ 2.4384e-01],\n",
      "         [-1.5915e+00],\n",
      "         [ 1.1677e+00],\n",
      "         [ 2.9357e-01],\n",
      "         [-2.3420e+00],\n",
      "         [-5.2477e-01]],\n",
      "\n",
      "        [[ 1.1795e+00],\n",
      "         [ 1.1402e+00],\n",
      "         [-9.5970e-01],\n",
      "         [ 6.6566e-01],\n",
      "         [ 9.3865e-01],\n",
      "         [ 9.9638e-01],\n",
      "         [-1.1611e+00],\n",
      "         [-4.9077e-01],\n",
      "         [-4.4960e-01],\n",
      "         [ 4.7150e-01]],\n",
      "\n",
      "        [[-1.3704e+00],\n",
      "         [-8.7601e-01],\n",
      "         [ 5.9896e-01],\n",
      "         [ 1.3871e-01],\n",
      "         [-1.3611e+00],\n",
      "         [-7.3226e-01],\n",
      "         [ 5.2425e-01],\n",
      "         [-1.4312e+00],\n",
      "         [-1.1336e+00],\n",
      "         [ 1.0199e-01]],\n",
      "\n",
      "        [[ 3.1899e+00],\n",
      "         [ 8.7859e-03],\n",
      "         [-1.7070e+00],\n",
      "         [ 1.2463e+00],\n",
      "         [-1.1746e-01],\n",
      "         [ 3.7929e-01],\n",
      "         [-1.4890e+00],\n",
      "         [ 1.9587e-02],\n",
      "         [-1.8941e+00],\n",
      "         [ 1.0931e+00]],\n",
      "\n",
      "        [[-2.4678e-01],\n",
      "         [ 1.9384e-01],\n",
      "         [ 4.9915e-01],\n",
      "         [ 6.3453e-01],\n",
      "         [-1.2172e-01],\n",
      "         [ 1.8340e-01],\n",
      "         [-1.4764e+00],\n",
      "         [ 7.5303e-01],\n",
      "         [-8.4871e-01],\n",
      "         [ 3.9539e-01]],\n",
      "\n",
      "        [[ 2.9154e-01],\n",
      "         [-7.6410e-01],\n",
      "         [ 1.0503e+00],\n",
      "         [ 2.2294e-01],\n",
      "         [-3.4896e-01],\n",
      "         [-4.7641e-02],\n",
      "         [-2.2666e+00],\n",
      "         [-1.5387e-01],\n",
      "         [-3.6333e-01],\n",
      "         [ 6.5236e-01]],\n",
      "\n",
      "        [[-5.7728e-02],\n",
      "         [-2.5532e-01],\n",
      "         [ 9.8081e-01],\n",
      "         [ 5.5425e-01],\n",
      "         [ 8.8329e-01],\n",
      "         [-2.0086e-01],\n",
      "         [-2.0507e-01],\n",
      "         [ 1.7299e-01],\n",
      "         [ 1.0814e+00],\n",
      "         [ 5.3417e-01]],\n",
      "\n",
      "        [[-6.6174e-01],\n",
      "         [-4.8210e-01],\n",
      "         [ 7.2911e-01],\n",
      "         [-4.4201e-01],\n",
      "         [ 2.3229e-01],\n",
      "         [ 1.2472e+00],\n",
      "         [-1.1354e+00],\n",
      "         [ 2.3226e-01],\n",
      "         [ 1.7602e+00],\n",
      "         [ 4.3922e-01]],\n",
      "\n",
      "        [[-1.8316e-01],\n",
      "         [-1.1088e+00],\n",
      "         [-1.9410e-01],\n",
      "         [ 2.2001e+00],\n",
      "         [ 3.1031e-01],\n",
      "         [-1.0059e+00],\n",
      "         [ 9.9346e-01],\n",
      "         [ 5.5161e-01],\n",
      "         [-2.3597e-01],\n",
      "         [-6.1596e-01]],\n",
      "\n",
      "        [[-4.7807e-01],\n",
      "         [-1.4156e-01],\n",
      "         [-5.4006e-01],\n",
      "         [ 1.8363e-01],\n",
      "         [ 5.1319e-01],\n",
      "         [ 1.0530e+00],\n",
      "         [ 7.6010e-01],\n",
      "         [-2.2088e-01],\n",
      "         [-2.3000e-01],\n",
      "         [ 2.4038e+00]],\n",
      "\n",
      "        [[-9.8549e-01],\n",
      "         [ 5.5129e-01],\n",
      "         [ 7.6447e-01],\n",
      "         [-7.4549e-01],\n",
      "         [-3.9065e-01],\n",
      "         [ 6.3234e-01],\n",
      "         [ 1.5154e-01],\n",
      "         [-1.1372e+00],\n",
      "         [ 7.7695e-01],\n",
      "         [ 8.1577e-01]],\n",
      "\n",
      "        [[-5.8131e-01],\n",
      "         [ 2.2461e-01],\n",
      "         [ 9.6698e-01],\n",
      "         [-1.8302e+00],\n",
      "         [ 7.6965e-01],\n",
      "         [-2.6211e-01],\n",
      "         [ 9.2002e-04],\n",
      "         [ 7.8211e-01],\n",
      "         [ 9.5461e-01],\n",
      "         [ 8.8489e-01]],\n",
      "\n",
      "        [[-5.2279e-01],\n",
      "         [ 8.7583e-01],\n",
      "         [-1.4347e+00],\n",
      "         [-9.3804e-01],\n",
      "         [ 1.1152e+00],\n",
      "         [-9.6477e-01],\n",
      "         [-1.1658e+00],\n",
      "         [-6.3403e-01],\n",
      "         [-2.1474e-01],\n",
      "         [ 1.8948e-01]],\n",
      "\n",
      "        [[-1.6723e+00],\n",
      "         [ 8.8917e-01],\n",
      "         [ 7.4791e-01],\n",
      "         [ 2.1443e+00],\n",
      "         [-1.3063e+00],\n",
      "         [ 1.2447e+00],\n",
      "         [ 3.7424e-01],\n",
      "         [ 3.0870e-01],\n",
      "         [ 9.5973e-01],\n",
      "         [ 1.3335e+00]],\n",
      "\n",
      "        [[-4.3476e-01],\n",
      "         [-5.6499e-01],\n",
      "         [ 9.4678e-01],\n",
      "         [-6.5076e-01],\n",
      "         [-4.6869e-03],\n",
      "         [ 1.7684e+00],\n",
      "         [ 8.5196e-01],\n",
      "         [ 1.0538e+00],\n",
      "         [ 1.3290e-01],\n",
      "         [-3.9322e-01]],\n",
      "\n",
      "        [[-1.2674e-01],\n",
      "         [-8.9777e-01],\n",
      "         [-6.7269e-01],\n",
      "         [ 9.8990e-02],\n",
      "         [ 8.2779e-01],\n",
      "         [-9.3390e-01],\n",
      "         [-4.3396e-01],\n",
      "         [ 6.2074e-01],\n",
      "         [ 4.9353e-02],\n",
      "         [-5.2057e-01]],\n",
      "\n",
      "        [[ 1.2698e-01],\n",
      "         [ 1.0843e+00],\n",
      "         [ 4.2815e-01],\n",
      "         [ 8.8496e-02],\n",
      "         [ 1.3433e+00],\n",
      "         [ 3.3329e-01],\n",
      "         [ 3.4214e-01],\n",
      "         [ 3.9197e-01],\n",
      "         [-1.5674e-01],\n",
      "         [-1.6670e+00]],\n",
      "\n",
      "        [[-5.1304e-02],\n",
      "         [ 3.3081e-01],\n",
      "         [-1.3076e+00],\n",
      "         [ 7.2598e-01],\n",
      "         [-6.0393e-01],\n",
      "         [-1.2092e-01],\n",
      "         [-1.1760e+00],\n",
      "         [-1.3897e-01],\n",
      "         [-5.3552e-01],\n",
      "         [ 3.9457e-01]],\n",
      "\n",
      "        [[-3.2965e-01],\n",
      "         [-5.4320e-02],\n",
      "         [ 9.7048e-01],\n",
      "         [ 2.2232e+00],\n",
      "         [ 3.8587e-02],\n",
      "         [ 1.0494e-01],\n",
      "         [ 4.8197e-01],\n",
      "         [-1.0208e+00],\n",
      "         [ 2.6857e+00],\n",
      "         [ 1.6716e-01]]])\n"
     ]
    }
   ],
   "source": [
    "inputs = torch.randn(30,10,1)\n",
    "print(inputs)\n",
    "#output, (h_0,c_0) = m(inputs)\n",
    "#output.size()"
   ]
  }
 ],
 "metadata": {
  "kernelspec": {
   "display_name": "Python 3 (ipykernel)",
   "language": "python",
   "name": "python3"
  },
  "language_info": {
   "codemirror_mode": {
    "name": "ipython",
    "version": 3
   },
   "file_extension": ".py",
   "mimetype": "text/x-python",
   "name": "python",
   "nbconvert_exporter": "python",
   "pygments_lexer": "ipython3",
   "version": "3.9.9"
  }
 },
 "nbformat": 4,
 "nbformat_minor": 4
}
