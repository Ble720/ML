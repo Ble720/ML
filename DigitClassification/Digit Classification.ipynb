{
 "cells": [
  {
   "cell_type": "code",
   "execution_count": 2,
   "id": "8673a853",
   "metadata": {},
   "outputs": [],
   "source": [
    "import torch\n",
    "import numpy\n",
    "import matplotlib.pyplot as plt\n",
    "import torchvision\n",
    "import torch.nn as nn\n",
    "import torch.nn.functional as F"
   ]
  },
  {
   "cell_type": "code",
   "execution_count": 1,
   "id": "8f75b270",
   "metadata": {},
   "outputs": [],
   "source": []
  },
  {
   "cell_type": "code",
   "execution_count": 6,
   "id": "7a92f345",
   "metadata": {},
   "outputs": [],
   "source": [
    "TrainDataset = torchvision.datasets.MNIST(\"./data\", train=True, transform=torchvision.transforms.ToTensor(), download=True)\n",
    "TestDataset = torchvision.datasets.MNIST(\"./data\", transform=torchvision.transforms.ToTensor(), download=True)"
   ]
  },
  {
   "cell_type": "code",
   "execution_count": 22,
   "id": "ec424563",
   "metadata": {},
   "outputs": [
    {
     "ename": "AttributeError",
     "evalue": "",
     "output_type": "error",
     "traceback": [
      "\u001b[1;31m---------------------------------------------------------------------------\u001b[0m",
      "\u001b[1;31mAttributeError\u001b[0m                            Traceback (most recent call last)",
      "\u001b[1;32m~\\AppData\\Local\\Temp/ipykernel_23196/3206555741.py\u001b[0m in \u001b[0;36m<module>\u001b[1;34m\u001b[0m\n\u001b[1;32m----> 1\u001b[1;33m \u001b[0mTrainDataset\u001b[0m\u001b[1;33m.\u001b[0m\u001b[0mtype\u001b[0m\u001b[1;33m(\u001b[0m\u001b[1;33m)\u001b[0m\u001b[1;33m\u001b[0m\u001b[1;33m\u001b[0m\u001b[0m\n\u001b[0m",
      "\u001b[1;32m~\\miniconda3\\envs\\general\\lib\\site-packages\\torch\\utils\\data\\dataset.py\u001b[0m in \u001b[0;36m__getattr__\u001b[1;34m(self, attribute_name)\u001b[0m\n\u001b[0;32m     81\u001b[0m             \u001b[1;32mreturn\u001b[0m \u001b[0mfunction\u001b[0m\u001b[1;33m\u001b[0m\u001b[1;33m\u001b[0m\u001b[0m\n\u001b[0;32m     82\u001b[0m         \u001b[1;32melse\u001b[0m\u001b[1;33m:\u001b[0m\u001b[1;33m\u001b[0m\u001b[1;33m\u001b[0m\u001b[0m\n\u001b[1;32m---> 83\u001b[1;33m             \u001b[1;32mraise\u001b[0m \u001b[0mAttributeError\u001b[0m\u001b[1;33m\u001b[0m\u001b[1;33m\u001b[0m\u001b[0m\n\u001b[0m\u001b[0;32m     84\u001b[0m \u001b[1;33m\u001b[0m\u001b[0m\n\u001b[0;32m     85\u001b[0m     \u001b[1;33m@\u001b[0m\u001b[0mclassmethod\u001b[0m\u001b[1;33m\u001b[0m\u001b[1;33m\u001b[0m\u001b[0m\n",
      "\u001b[1;31mAttributeError\u001b[0m: "
     ]
    }
   ],
   "source": [
    "TrainDataset"
   ]
  },
  {
   "cell_type": "code",
   "execution_count": 17,
   "id": "c3279989",
   "metadata": {},
   "outputs": [
    {
     "name": "stdout",
     "output_type": "stream",
     "text": [
      "tensor([[[[0., 0., 0.,  ..., 0., 0., 0.],\n",
      "          [0., 0., 0.,  ..., 0., 0., 0.],\n",
      "          [0., 0., 0.,  ..., 0., 0., 0.],\n",
      "          ...,\n",
      "          [0., 0., 0.,  ..., 0., 0., 0.],\n",
      "          [0., 0., 0.,  ..., 0., 0., 0.],\n",
      "          [0., 0., 0.,  ..., 0., 0., 0.]]],\n",
      "\n",
      "\n",
      "        [[[0., 0., 0.,  ..., 0., 0., 0.],\n",
      "          [0., 0., 0.,  ..., 0., 0., 0.],\n",
      "          [0., 0., 0.,  ..., 0., 0., 0.],\n",
      "          ...,\n",
      "          [0., 0., 0.,  ..., 0., 0., 0.],\n",
      "          [0., 0., 0.,  ..., 0., 0., 0.],\n",
      "          [0., 0., 0.,  ..., 0., 0., 0.]]],\n",
      "\n",
      "\n",
      "        [[[0., 0., 0.,  ..., 0., 0., 0.],\n",
      "          [0., 0., 0.,  ..., 0., 0., 0.],\n",
      "          [0., 0., 0.,  ..., 0., 0., 0.],\n",
      "          ...,\n",
      "          [0., 0., 0.,  ..., 0., 0., 0.],\n",
      "          [0., 0., 0.,  ..., 0., 0., 0.],\n",
      "          [0., 0., 0.,  ..., 0., 0., 0.]]],\n",
      "\n",
      "\n",
      "        ...,\n",
      "\n",
      "\n",
      "        [[[0., 0., 0.,  ..., 0., 0., 0.],\n",
      "          [0., 0., 0.,  ..., 0., 0., 0.],\n",
      "          [0., 0., 0.,  ..., 0., 0., 0.],\n",
      "          ...,\n",
      "          [0., 0., 0.,  ..., 0., 0., 0.],\n",
      "          [0., 0., 0.,  ..., 0., 0., 0.],\n",
      "          [0., 0., 0.,  ..., 0., 0., 0.]]],\n",
      "\n",
      "\n",
      "        [[[0., 0., 0.,  ..., 0., 0., 0.],\n",
      "          [0., 0., 0.,  ..., 0., 0., 0.],\n",
      "          [0., 0., 0.,  ..., 0., 0., 0.],\n",
      "          ...,\n",
      "          [0., 0., 0.,  ..., 0., 0., 0.],\n",
      "          [0., 0., 0.,  ..., 0., 0., 0.],\n",
      "          [0., 0., 0.,  ..., 0., 0., 0.]]],\n",
      "\n",
      "\n",
      "        [[[0., 0., 0.,  ..., 0., 0., 0.],\n",
      "          [0., 0., 0.,  ..., 0., 0., 0.],\n",
      "          [0., 0., 0.,  ..., 0., 0., 0.],\n",
      "          ...,\n",
      "          [0., 0., 0.,  ..., 0., 0., 0.],\n",
      "          [0., 0., 0.,  ..., 0., 0., 0.],\n",
      "          [0., 0., 0.,  ..., 0., 0., 0.]]]])\n",
      "torch.Size([16, 1, 28, 28]) torch.Size([16])\n",
      "tensor([7, 4, 5, 8, 6, 8, 0, 4, 2, 6, 8, 0, 2, 4, 8, 7])\n"
     ]
    },
    {
     "data": {
      "image/png": "[encoded data removed]",
      "text/plain": [
       "<Figure size 432x288 with 1 Axes>"
      ]
     },
     "metadata": {
      "needs_background": "light"
     },
     "output_type": "display_data"
    }
   ],
   "source": [
    "TrainDataLoader = torch.utils.data.DataLoader(TrainDataset, batch_size=16, shuffle=True)\n",
    "TestDataLoader = torch.utils.data.DataLoader(TestDataset, batch_size=16, shuffle=True)\n",
    "\n",
    "TrainIterator = iter(TrainDataLoader)\n",
    "BatchOfSamples = TrainIterator.next()\n",
    "Inputs, Labels = BatchOfSamples\n",
    "#print(Inputs)\n",
    "\n",
    "print(Inputs.size(), Labels.size())\n",
    "plt.imshow(Inputs[0].squeeze(), cmap='gray')\n",
    "print(Labels)"
   ]
  },
  {
   "cell_type": "code",
   "execution_count": 25,
   "id": "d93717e1",
   "metadata": {},
   "outputs": [],
   "source": [
    "class model(nn.Module):\n",
    "    def __init__(self, input_dim, output_dim):\n",
    "        super().__init__()\n",
    "        self.layer1 = nn.Linear(input_dim, 512)\n",
    "        self.layer2 = nn.Linear(512, 256)\n",
    "        self.layer3 = nn.Linear(256, output_dim)\n",
    "        \n",
    "    #forward propagation\n",
    "    def forward(self, x):\n",
    "        x = F.relu(self.layer1(x))\n",
    "        x = F.relu(self.layer2(x))\n",
    "        #output\n",
    "        x = self.layer3(x) # no softmax\n",
    "        \n",
    "        return x"
   ]
  },
  {
   "cell_type": "code",
   "execution_count": 28,
   "id": "8eab520a",
   "metadata": {},
   "outputs": [
    {
     "data": {
      "text/plain": [
       "model(\n",
       "  (layer1): Linear(in_features=784, out_features=512, bias=True)\n",
       "  (layer2): Linear(in_features=512, out_features=256, bias=True)\n",
       "  (layer3): Linear(in_features=256, out_features=10, bias=True)\n",
       ")"
      ]
     },
     "execution_count": 28,
     "metadata": {},
     "output_type": "execute_result"
    }
   ],
   "source": [
    "myModel = model(784, 10)\n",
    "\n",
    "myModel"
   ]
  },
  {
   "cell_type": "code",
   "execution_count": 29,
   "id": "e926dca3",
   "metadata": {},
   "outputs": [],
   "source": [
    "loss = nn.CrossEntropyLoss() \n",
    "\n",
    "Optimizer = torch.optim.Adam(myModel.parameters(), lr = 0.01)"
   ]
  },
  {
   "cell_type": "code",
   "execution_count": 30,
   "id": "dc5ae7d8",
   "metadata": {},
   "outputs": [
    {
     "name": "stdout",
     "output_type": "stream",
     "text": [
      "Epoch 1 Loss: 0.7040073871612549\n",
      "Epoch 2 Loss: 0.1005120649933815\n",
      "Epoch 3 Loss: 0.0747077465057373\n",
      "Epoch 4 Loss: 0.008824252523481846\n",
      "Epoch 5 Loss: 0.028333965688943863\n",
      "Epoch 6 Loss: 0.18435271084308624\n",
      "Epoch 7 Loss: 0.04438037425279617\n",
      "Epoch 8 Loss: 0.16082054376602173\n",
      "Epoch 9 Loss: 0.15102404356002808\n",
      "Epoch 10 Loss: 0.07937876135110855\n"
     ]
    }
   ],
   "source": [
    "#Training\n",
    "myModel.train()\n",
    "\n",
    "for epoch in range(10): #for 10 epochs\n",
    "    for batch in iter(TrainDataLoader):\n",
    "        \n",
    "        batch_inputs, batch_labels = batch\n",
    "        batch_inputs = torch.reshape(batch_inputs, [16, 784])\n",
    "        \n",
    "        # gradients accumulate so we need to clear them out every iteration\n",
    "        Optimizer.zero_grad()\n",
    "        \n",
    "        predictions = myModel(batch_inputs)\n",
    "        \n",
    "        #loss\n",
    "        current_loss = loss(predictions, batch_labels)\n",
    "        \n",
    "        current_loss.backward()\n",
    "        \n",
    "        Optimizer.step() #Xnew = Xold = lr*grad\n",
    "        \n",
    "    print('Epoch {} Loss: {}'.format(epoch+1, current_loss))"
   ]
  },
  {
   "cell_type": "code",
   "execution_count": 23,
   "id": "dbec6edc",
   "metadata": {},
   "outputs": [
    {
     "ename": "NameError",
     "evalue": "name 'myModel' is not defined",
     "output_type": "error",
     "traceback": [
      "\u001b[1;31m---------------------------------------------------------------------------\u001b[0m",
      "\u001b[1;31mNameError\u001b[0m                                 Traceback (most recent call last)",
      "\u001b[1;32m~\\AppData\\Local\\Temp/ipykernel_23196/2002114220.py\u001b[0m in \u001b[0;36m<module>\u001b[1;34m\u001b[0m\n\u001b[0;32m      1\u001b[0m \u001b[1;31m# test\u001b[0m\u001b[1;33m\u001b[0m\u001b[1;33m\u001b[0m\u001b[0m\n\u001b[1;32m----> 2\u001b[1;33m \u001b[0mmyModel\u001b[0m\u001b[1;33m.\u001b[0m\u001b[0meval\u001b[0m\u001b[1;33m(\u001b[0m\u001b[1;33m)\u001b[0m\u001b[1;33m\u001b[0m\u001b[1;33m\u001b[0m\u001b[0m\n\u001b[0m\u001b[0;32m      3\u001b[0m \u001b[1;33m\u001b[0m\u001b[0m\n\u001b[0;32m      4\u001b[0m \u001b[0mip\u001b[0m \u001b[1;33m=\u001b[0m \u001b[0mtorch\u001b[0m\u001b[1;33m.\u001b[0m\u001b[0mreshape\u001b[0m\u001b[1;33m(\u001b[0m\u001b[0mInputs\u001b[0m\u001b[1;33m[\u001b[0m\u001b[1;36m0\u001b[0m\u001b[1;33m]\u001b[0m\u001b[1;33m,\u001b[0m \u001b[1;33m[\u001b[0m\u001b[1;36m1\u001b[0m\u001b[1;33m,\u001b[0m\u001b[1;36m784\u001b[0m\u001b[1;33m]\u001b[0m\u001b[1;33m)\u001b[0m\u001b[1;33m\u001b[0m\u001b[1;33m\u001b[0m\u001b[0m\n\u001b[0;32m      5\u001b[0m \u001b[0mpred\u001b[0m \u001b[1;33m=\u001b[0m \u001b[0mmyModel\u001b[0m\u001b[1;33m(\u001b[0m\u001b[0mip\u001b[0m\u001b[1;33m)\u001b[0m\u001b[1;33m.\u001b[0m\u001b[0margmax\u001b[0m\u001b[1;33m(\u001b[0m\u001b[0maxis\u001b[0m\u001b[1;33m=\u001b[0m\u001b[1;36m1\u001b[0m\u001b[1;33m)\u001b[0m\u001b[1;33m\u001b[0m\u001b[1;33m\u001b[0m\u001b[0m\n",
      "\u001b[1;31mNameError\u001b[0m: name 'myModel' is not defined"
     ]
    }
   ],
   "source": [
    "# test\n",
    "myModel.eval()\n",
    "\n",
    "ip = torch.reshape(Inputs[0], [1,784])\n",
    "pred = myModel(ip).argmax(axis=1)\n",
    "\n",
    "plt.imshow(Inputs[0].squeeze(), cmap='gray')\n",
    "print(\"prediction : \", pred.item())"
   ]
  },
  {
   "cell_type": "code",
   "execution_count": 35,
   "id": "78be1bc8",
   "metadata": {},
   "outputs": [
    {
     "name": "stdout",
     "output_type": "stream",
     "text": [
      "97.01166666666667 %\n"
     ]
    }
   ],
   "source": [
    "correct = 0\n",
    "total = 0\n",
    "for data in iter(TestDataLoader):\n",
    "    #each testing sample\n",
    "    batch_inputs, batch_labels = data\n",
    "    batch_inputs = torch.reshape(batch_inputs, [16, 784])\n",
    "    \n",
    "    #predicting outputs\n",
    "    predictions = myModel(batch_inputs).argmax(axis=1)\n",
    "    \n",
    "    total += len(batch_labels)\n",
    "    \n",
    "    #total number of correct predictions\n",
    "    correct += (predictions==batch_labels).sum().item()\n",
    "    \n",
    "print(100*correct/total,\"%\")"
   ]
  },
  {
   "cell_type": "code",
   "execution_count": 33,
   "id": "ebf21899",
   "metadata": {},
   "outputs": [],
   "source": [
    "torch.save(myModel.state_dict(), \"./myModel.pt\")"
   ]
  },
  {
   "cell_type": "code",
   "execution_count": 26,
   "id": "c5d294ed",
   "metadata": {},
   "outputs": [
    {
     "data": {
      "text/plain": [
       "<All keys matched successfully>"
      ]
     },
     "execution_count": 26,
     "metadata": {},
     "output_type": "execute_result"
    }
   ],
   "source": [
    "myNewModel = model(784, 10)\n",
    "\n",
    "modelWeights = torch.load(\"./myModel.pt\")\n",
    "\n",
    "myNewModel.load_state_dict(modelWeights)"
   ]
  },
  {
   "cell_type": "code",
   "execution_count": 31,
   "id": "2582cc2a",
   "metadata": {},
   "outputs": [
    {
     "name": "stdout",
     "output_type": "stream",
     "text": [
      "prediction :  7\n"
     ]
    },
    {
     "data": {
      "image/png": "[encoded data removed]",
      "text/plain": [
       "<Figure size 432x288 with 1 Axes>"
      ]
     },
     "metadata": {
      "needs_background": "light"
     },
     "output_type": "display_data"
    }
   ],
   "source": [
    "myNewModel.eval()\n",
    "\n",
    "ip = torch.reshape(Inputs[0], [1,784])\n",
    "pred = myNewModel(ip).argmax(axis=1)\n",
    "\n",
    "plt.imshow(Inputs[0].squeeze(), cmap='gray')\n",
    "print(\"prediction : \", pred.item())"
   ]
  },
  {
   "cell_type": "code",
   "execution_count": 32,
   "id": "1f044dab",
   "metadata": {},
   "outputs": [
    {
     "name": "stdout",
     "output_type": "stream",
     "text": [
      "97.01166666666667 %\n"
     ]
    }
   ],
   "source": [
    "correct = 0\n",
    "total = 0\n",
    "for data in iter(TestDataLoader):\n",
    "\n",
    "    batch_inputs, batch_labels = data\n",
    "    batch_inputs = torch.reshape(batch_inputs, [16, 784])\n",
    "    \n",
    "\n",
    "    predictions = myNewModel(batch_inputs).argmax(axis=1)\n",
    "    \n",
    "    total += len(batch_labels)\n",
    "    \n",
    "\n",
    "    correct += (predictions==batch_labels).sum().item()\n",
    "    \n",
    "print(100*correct/total,\"%\")"
   ]
  }
 ],
 "metadata": {
  "kernelspec": {
   "display_name": "Python 3 (ipykernel)",
   "language": "python",
   "name": "python3"
  },
  "language_info": {
   "codemirror_mode": {
    "name": "ipython",
    "version": 3
   },
   "file_extension": ".py",
   "mimetype": "text/x-python",
   "name": "python",
   "nbconvert_exporter": "python",
   "pygments_lexer": "ipython3",
   "version": "3.9.9"
  }
 },
 "nbformat": 4,
 "nbformat_minor": 5
}
